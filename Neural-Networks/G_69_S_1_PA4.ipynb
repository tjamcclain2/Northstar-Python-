{
  "cells": [
    {
      "cell_type": "markdown",
      "id": "6ec48b72",
      "metadata": {
        "id": "6ec48b72"
      },
      "source": [
        "## Instructions"
      ]
    },
    {
      "cell_type": "markdown",
      "id": "95075802",
      "metadata": {
        "id": "95075802"
      },
      "source": [
        "You are to submit the following files, in the naming convention below:\n",
        "- The Jupyter Notebook as `G_XX_S_X_PA4.ipynb`\n",
        "- The Python File as `G_XX_S_X_PA4.py`\n",
        "- Your final models as `G_XX_S_X_FFN/CNN.pth`\n",
        "\n",
        "Please add all of these in a single zip (not winrar) file. Rename it to `G_XX_S_X_PA4.zip`"
      ]
    },
    {
      "cell_type": "markdown",
      "id": "2e305354",
      "metadata": {
        "id": "2e305354"
      },
      "source": [
        "## Section 1: Introduction to PyTorch [10 Marks]"
      ]
    },
    {
      "cell_type": "markdown",
      "id": "b4356fb9",
      "metadata": {
        "id": "b4356fb9"
      },
      "source": [
        "### Task 0: Installing PyTorch\n",
        "To install PyTorch on your local machine, please go through the official [guide](https://pytorch.org/get-started/locally/). Alternatively, you can use Google Colab for the assignment which has PyTorch installed and configured out of the box. Also, go through the official PyTorch [tutorial](https://pytorch.org/tutorials/beginner/basics/quickstart_tutorial.html)"
      ]
    },
    {
      "cell_type": "code",
      "execution_count": 165,
      "id": "18dedeb7",
      "metadata": {
        "id": "18dedeb7"
      },
      "outputs": [],
      "source": [
        "import torch\n",
        "import torchvision\n",
        "import torch.nn as nn\n",
        "import numpy as np\n",
        "import matplotlib.pyplot as plt\n",
        "import tqdm as tqdm"
      ]
    },
    {
      "cell_type": "markdown",
      "id": "f02bab49",
      "metadata": {
        "id": "f02bab49"
      },
      "source": [
        "### Task 1: Understanding Tensor Manipulation"
      ]
    },
    {
      "cell_type": "markdown",
      "id": "ae28e812",
      "metadata": {
        "id": "ae28e812"
      },
      "source": [
        "Implement the following functions using PyTorch. You are not allowed to change any function definitions. You may find the following PyTorch utilities helpful. You may read up more in the [documentation](https://pytorch.org/docs/stable/torch.html).\n",
        "\n",
        "```python\n",
        "torch.tensor([...])         # Create tensor from list or nested list\n",
        "torch.arange(start, end)    # Range of values (1D)\n",
        "torch.ones(size)            # Tensor filled with ones\n",
        "torch.zeros(size)           # Tensor filled with zeros\n",
        "torch.rand(size)            # Uniformly random values in [0, 1)\n",
        "torch.randn(size)           # Normally distributed values\n",
        "\n",
        "tensor + other              # Element-wise addition\n",
        "tensor - other              # Element-wise subtraction\n",
        "tensor * other              # Element-wise multiplication\n",
        "tensor / other              # Element-wise division\n",
        "tensor @ other              # Matrix multiplication (preferred over matmul)\n",
        "\n",
        "tensor.shape                # Get the shape (tuple of dimensions)\n",
        "tensor.dtype                # Data type (e.g., float32, int64)\n",
        "tensor.device               # Shows whether on CPU or GPU\n",
        "\n",
        "tensor.reshape(new_shape)     # Change shape (returns a copy)\n",
        "tensor.view(new_shape)        # Alternative to reshape (may share memory)\n",
        "tensor.T                      # Transpose 2D tensor\n",
        "tensor.transpose(dim0, dim1)  # Swap two dimensions\n",
        "\n",
        "```\n",
        "---"
      ]
    },
    {
      "cell_type": "markdown",
      "id": "56ef4003",
      "metadata": {
        "id": "56ef4003"
      },
      "source": [
        "$$\n",
        "f_1 = a + \\mathbf{1}\n",
        "$$\n",
        "\n",
        "Where $a$ can be a tensor of any shape, and $1$ dynamically takes the shape of $a$."
      ]
    },
    {
      "cell_type": "code",
      "execution_count": 166,
      "id": "a892e391",
      "metadata": {
        "id": "a892e391"
      },
      "outputs": [],
      "source": [
        "### Function Definition.\n",
        "def f1(a):\n",
        "    shape = a.shape\n",
        "    f = a + torch.ones(shape)\n",
        "    return f"
      ]
    },
    {
      "cell_type": "code",
      "execution_count": 167,
      "id": "dafe54c1",
      "metadata": {
        "colab": {
          "base_uri": "https://localhost:8080/"
        },
        "id": "dafe54c1",
        "outputId": "200e14c7-2e2b-4eb1-9fff-b9092c39fd45"
      },
      "outputs": [
        {
          "name": "stdout",
          "output_type": "stream",
          "text": [
            "Before passing the tensor through function: tensor([[[0.6942, 0.8548, 0.5588],\n",
            "         [0.3574, 0.1914, 0.8832]]])\n",
            "After passing the tensor through function: tensor([[[1.6942, 1.8548, 1.5588],\n",
            "         [1.3574, 1.1914, 1.8832]]])\n"
          ]
        }
      ],
      "source": [
        "### Test your function.\n",
        "a = torch.rand(1,2,3)\n",
        "print(f\"Before passing the tensor through function: {a}\")\n",
        "f = f1(a)\n",
        "print(f\"After passing the tensor through function: {f}\")"
      ]
    },
    {
      "cell_type": "markdown",
      "id": "422b1a02",
      "metadata": {
        "id": "422b1a02"
      },
      "source": [
        "---\n",
        "\n",
        "\n",
        "$$\n",
        "f_2 = (A \\cdot v)^T \\odot v^T\n",
        "$$\n",
        "\n",
        "- $A$ = $\\begin{pmatrix}\n",
        "1 & 2 & 3 \\\\\n",
        "4 & 5 & 6 \\\\\n",
        "7 & 8 & 9\n",
        "\\end{pmatrix}$\n",
        "- $v$ can be any vector of appropriate shape, your function should explicitly check this and return 0 if v is not of appropriate shape.\n",
        "- $\\odot$ represents element wise multiplication\n"
      ]
    },
    {
      "cell_type": "code",
      "execution_count": 168,
      "id": "8aae23b3",
      "metadata": {
        "id": "8aae23b3"
      },
      "outputs": [],
      "source": [
        "### Function Definition.\n",
        "def f2(v):\n",
        "    a = torch.tensor([[1,2,3],[4,5,6],[7,8,9]],dtype=torch.float32)\n",
        "\n",
        "    if v.shape not in [(3,), (3, 1)]:\n",
        "        return torch.tensor(0)\n",
        "\n",
        "    # Ensure v is a column vector (3x1) for matrix multiplication\n",
        "    if v.dim() == 1 :\n",
        "      v = v.reshape(-1,1)\n",
        "    else:\n",
        "      pass\n",
        "\n",
        "    Av = torch.matmul(a, v)\n",
        "\n",
        "\n",
        "    Av_T = Av.T  # Shape: [1, 3]\n",
        "    v_T = v.T    # Shape: [1, 3]\n",
        "\n",
        "\n",
        "    f2 = Av_T * v_T  # Shape: [1, 3]\n",
        "\n",
        "    return f2"
      ]
    },
    {
      "cell_type": "code",
      "execution_count": 169,
      "id": "fb609ad1",
      "metadata": {
        "colab": {
          "base_uri": "https://localhost:8080/"
        },
        "id": "fb609ad1",
        "outputId": "df465e86-385d-4c65-f896-932a40e6b444"
      },
      "outputs": [
        {
          "name": "stdout",
          "output_type": "stream",
          "text": [
            "f2:\n",
            " tensor([[2.6104, 2.1180, 6.7117]])\n"
          ]
        }
      ],
      "source": [
        "### Test your function.\n",
        "v = torch.rand(3)  # Shape (3,)\n",
        "f = f2(v)\n",
        "print(\"f2:\\n\", f)"
      ]
    },
    {
      "cell_type": "markdown",
      "id": "52e504c9",
      "metadata": {
        "id": "52e504c9"
      },
      "source": [
        "### Task 2: Understanding Devices in PyTorch (CPU, CUDA, MPS)\n",
        "\n",
        "PyTorch can run tensor computations on different devices: `cpu` (default), `cuda` (for NVIDIA GPUs), and `mps` (for Apple Silicon GPUs). These devices speed up computation, especially for large tensors or deep learning models.\n",
        "\n",
        "To use a device, you must **explicitly send tensors to it** using `.to(device)` or create them directly on the device. If two tensors are involved in an operation, **they must be on the same device**. Otherwise, PyTorch will raise a runtime error.\n",
        "\n",
        "Below is an example setup — uncomment the line matching your hardware.\n"
      ]
    },
    {
      "cell_type": "code",
      "execution_count": 170,
      "id": "15b3b3f4",
      "metadata": {
        "colab": {
          "base_uri": "https://localhost:8080/"
        },
        "id": "15b3b3f4",
        "outputId": "0cc3dd88-2841-4c7d-fbb4-4f60c0c6748f"
      },
      "outputs": [
        {
          "name": "stdout",
          "output_type": "stream",
          "text": [
            "cuda\n"
          ]
        }
      ],
      "source": [
        "device = torch.device(\"cuda\" if torch.cuda.is_available() else \"cpu\")  # For NVIDIA GPU\n",
        "#device = torch.device(\"mps\" if torch.backends.mps.is_available() else \"cpu\")  # For Apple Silicon\n",
        "\n",
        "print(device)"
      ]
    },
    {
      "cell_type": "markdown",
      "id": "71bda507",
      "metadata": {
        "id": "71bda507"
      },
      "source": [
        "Now implement the following function:"
      ]
    },
    {
      "cell_type": "markdown",
      "id": "a872d346",
      "metadata": {
        "id": "a872d346"
      },
      "source": [
        "$$\n",
        "f_3 = r^T \\cdot X\n",
        "$$\n",
        "\n",
        "Where:\n",
        "\n",
        "- $r \\in \\mathbb{R}^{4 \\times 1}$ is a random tensor generated by `torch.rand`\n",
        "- $X \\in \\mathbb{R}^{4 \\times 5}$ is a tensor with values from 1 to 20 (inclusive), reshaped to shape $(4, 5)$\n",
        "- Make sure the function explicitly sends r and X to whatever device is passed. The returned tensor should also be on the same device."
      ]
    },
    {
      "cell_type": "code",
      "execution_count": 171,
      "id": "fae22450",
      "metadata": {
        "id": "fae22450"
      },
      "outputs": [],
      "source": [
        "### Function Definition.\n",
        "def f3(device):\n",
        "    r = torch.rand((4,1), device=device,dtype=torch.float32)\n",
        "    x = torch.tensor([[1,2,3,4,5],[6,7,8,9,10],[11,12,13,14,15],[16,17,18,19,20]], device=device, dtype=torch.float32)\n",
        "    x.reshape(4,5)\n",
        "    r_t = r.T\n",
        "    result = r_t @ x\n",
        "    return result"
      ]
    },
    {
      "cell_type": "code",
      "execution_count": 172,
      "id": "b60c1944",
      "metadata": {
        "colab": {
          "base_uri": "https://localhost:8080/"
        },
        "id": "b60c1944",
        "outputId": "42f7e34a-8d7f-4c10-c435-9fe01943998b"
      },
      "outputs": [
        {
          "name": "stdout",
          "output_type": "stream",
          "text": [
            "Result: tensor([[18.8357, 21.1184, 23.4011, 25.6838, 27.9665]], device='cuda:0')\n"
          ]
        }
      ],
      "source": [
        "### Test your function.\n",
        "\n",
        "cpu_result = f3(device)\n",
        "print(\"Result:\", cpu_result)\n"
      ]
    },
    {
      "cell_type": "markdown",
      "id": "cccb90a2",
      "metadata": {
        "id": "cccb90a2"
      },
      "source": [
        "---"
      ]
    },
    {
      "cell_type": "markdown",
      "id": "3bda42b3",
      "metadata": {
        "id": "3bda42b3"
      },
      "source": [
        "## Section 2: Feed Forward Neural Networks [30 Marks]"
      ]
    },
    {
      "cell_type": "markdown",
      "id": "6f0cf512",
      "metadata": {
        "id": "6f0cf512"
      },
      "source": [
        "### Task 1: MNIST Digit Classification"
      ]
    },
    {
      "cell_type": "markdown",
      "id": "7fc6656a",
      "metadata": {
        "id": "7fc6656a"
      },
      "source": [
        "#### Step 1: Loading Data [10 Marks]"
      ]
    },
    {
      "cell_type": "markdown",
      "id": "3840c2d1",
      "metadata": {
        "id": "3840c2d1"
      },
      "source": [
        "In PyTorch, `Dataset` is an abstract class representing a dataset, it allows you to access individual raw data points. Firstly you will load the MNIST dataset using `torchvision.datasets.MNIST`. This dataset contains images of handwritten digits from 0 to 9, each of size 28x28 pixels. We will load the training data here. The dataset will automatically be downloaded if it is not already present on your local machine. You may refer to the documentation [here](https://pytorch.org/vision/main/generated/torchvision.datasets.MNIST.html?highlight=mnist#torchvision.datasets.MNIST)."
      ]
    },
    {
      "cell_type": "code",
      "execution_count": 173,
      "id": "fd4deea6",
      "metadata": {
        "colab": {
          "base_uri": "https://localhost:8080/"
        },
        "id": "fd4deea6",
        "outputId": "02ab043d-877a-4cb1-d210-762f283e0093"
      },
      "outputs": [],
      "source": [
        "dataset = torchvision.datasets.MNIST(root = './data', train = True, download = True)"
      ]
    },
    {
      "cell_type": "markdown",
      "id": "84920743",
      "metadata": {
        "id": "84920743"
      },
      "source": [
        "Next, we will define a `transform` to apply to the dataset. The most basic transformation would be to convert the images to tensors. Another common practice is to normalize the pixel values so that the network can train more efficiently. Transformations are applied every time a sample is fetched from the dataset. You have to define a transform function that would convert images to tensors and normalizes them. You may explore further by referring to the documentation [here](https://pytorch.org/vision/0.9/transforms.html).\n",
        "\n",
        "Functions that will come in handy are:\n",
        "```python\n",
        "torchvision.transforms.Compose()\n",
        "torchvision.transforms.ToTensor()\n",
        "torchvision.transforms.Normalize()\n",
        "```"
      ]
    },
    {
      "cell_type": "code",
      "execution_count": 174,
      "id": "0691ef3e",
      "metadata": {
        "id": "0691ef3e"
      },
      "outputs": [],
      "source": [
        "transforms = torchvision.transforms.Compose([\n",
        "    torchvision.transforms.ToTensor(),\n",
        "    torchvision.transforms.Normalize((0.1307,), (0.3081,))\n",
        "])\n",
        "dataset = torchvision.datasets.MNIST(root = './data', train = True, download = True, transform = transforms)\n",
        "train_set, validation_set = torch.utils.data.dataset.random_split(dataset, [50000, 10000])\n",
        "test_set = torchvision.datasets.MNIST(root = './data', train = False, download = True, transform = transforms)"
      ]
    },
    {
      "cell_type": "markdown",
      "id": "857a2301",
      "metadata": {
        "id": "857a2301"
      },
      "source": [
        "Next we will create dataloaders. A `DataLoader` is an iterable pytorch object that automatically splits the dataset into mini-batches, shuffles the data, applies the transformations we defined earlier, and loads data in parallel for efficient training. You may look into dataloaders [here](https://pytorch.org/tutorials/beginner/basics/data_tutorial.html).\n",
        "\n",
        "We will also split the MNIST dataset into a training, validation and testing set. You may look into the `random_split` function to randomly divide the dataset.\n",
        "\n",
        "Your task is to:\n",
        "1. Split the dataset into training, validation and testing datasets.\n",
        "2. Create two `DataLoader` instances: one for the training data and one for the test data.\n",
        "3. Set a batch size of 64 and shuffle the training data.\n"
      ]
    },
    {
      "cell_type": "code",
      "execution_count": 175,
      "id": "466487f4",
      "metadata": {
        "id": "466487f4"
      },
      "outputs": [],
      "source": [
        "train_loader = torch.utils.data.DataLoader(train_set, batch_size = 64, shuffle = True)\n",
        "val_loader = torch.utils.data.DataLoader(validation_set, batch_size = 64, shuffle = False)\n",
        "test_loader = torch.utils.data.DataLoader(test_set, batch_size = 64, shuffle = False)"
      ]
    },
    {
      "cell_type": "markdown",
      "id": "2b3d1d96",
      "metadata": {
        "id": "2b3d1d96"
      },
      "source": [
        "Now, let's visualize the first batch of images from the training data. You may use `matplotlib` or PyTorch utilities such as `torch.utils.data.make_grid` to plot the images and display their corresponding labels. Always visualize because it helps us ensure that the data is correctly loaded and transformed.\n",
        "\n",
        "Task:\n",
        "- Display 8 images from the any batch of training data.\n",
        "- Show the corresponding labels for those images.\n"
      ]
    },
    {
      "cell_type": "code",
      "execution_count": 176,
      "id": "87b6faac",
      "metadata": {
        "colab": {
          "base_uri": "https://localhost:8080/",
          "height": 1000
        },
        "id": "87b6faac",
        "outputId": "d5f2dedd-e016-4c38-cf58-f090fa4374c0"
      },
      "outputs": [
        {
          "data": {
            "image/png": "[encoded data removed]",
            "text/plain": [
              "<Figure size 1000x1000 with 1 Axes>"
            ]
          },
          "metadata": {},
          "output_type": "display_data"
        },
        {
          "data": {
            "image/png": "[encoded data removed]",
            "text/plain": [
              "<Figure size 1000x1000 with 1 Axes>"
            ]
          },
          "metadata": {},
          "output_type": "display_data"
        },
        {
          "data": {
            "image/png": "[encoded data removed]",
            "text/plain": [
              "<Figure size 1000x1000 with 1 Axes>"
            ]
          },
          "metadata": {},
          "output_type": "display_data"
        },
        {
          "data": {
            "image/png": "[encoded data removed]",
            "text/plain": [
              "<Figure size 1000x1000 with 1 Axes>"
            ]
          },
          "metadata": {},
          "output_type": "display_data"
        },
        {
          "data": {
            "image/png": "[encoded data removed]",
            "text/plain": [
              "<Figure size 1000x1000 with 1 Axes>"
            ]
          },
          "metadata": {},
          "output_type": "display_data"
        },
        {
          "data": {
            "image/png": "[encoded data removed]",
            "text/plain": [
              "<Figure size 1000x1000 with 1 Axes>"
            ]
          },
          "metadata": {},
          "output_type": "display_data"
        },
        {
          "data": {
            "image/png": "[encoded data removed]",
            "text/plain": [
              "<Figure size 1000x1000 with 1 Axes>"
            ]
          },
          "metadata": {},
          "output_type": "display_data"
        },
        {
          "data": {
            "image/png": "[encoded data removed]",
            "text/plain": [
              "<Figure size 1000x1000 with 1 Axes>"
            ]
          },
          "metadata": {},
          "output_type": "display_data"
        }
      ],
      "source": [
        "images, labels = next(iter(train_loader))  # Get the first batch of data (remember train_loaders are ITERABLE, and every iteration contains 1 mini-batch of data)\n",
        "\n",
        "### Visualization Code Here\n",
        "for i in range(8):\n",
        "    plt.figure(figsize = (10, 10))\n",
        "    plt.subplot(1, 8, i + 1)\n",
        "    plt.imshow(images[i][0], cmap = 'gray')\n",
        "    plt.title(f\"Label: {labels[i]}\")\n",
        "    plt.axis('off')\n",
        "    plt.show()"
      ]
    },
    {
      "cell_type": "markdown",
      "id": "f79a1561",
      "metadata": {
        "id": "f79a1561"
      },
      "source": [
        "#### Step 2: Creating a model [10 Marks]"
      ]
    },
    {
      "cell_type": "markdown",
      "id": "a8c1f8d7",
      "metadata": {
        "id": "a8c1f8d7"
      },
      "source": [
        "In this step, we will define the architecture of a simple Feed-Forward Neural Network (FFNN) for MNIST classification. The network will have:\n",
        "- An input layer corresponding to the size of the MNIST images. (Think about how to tackle dimensionality here)\n",
        "- A few fully connected hidden layers with simple activation functions (e.g., ReLU).\n",
        "- An output layer (Again think about the dimensionality here)\n",
        "- Make sure that your total parameters do not exceed 600,000\n",
        "\n",
        "\n",
        "We will use `torch.nn.Module` to define the model structure. You are free to choose any appropriate activation functions of your choice. You can look into the documentation [here](https://pytorch.org/docs/stable/nn.html), some useful functions that you should look up are:\n",
        "```python\n",
        "nn.Linear()\n",
        "nn.Sequential()\n",
        "nn.Sigmoid()\n",
        "nn.ReLU()\n",
        "```"
      ]
    },
    {
      "cell_type": "code",
      "execution_count": 177,
      "id": "c5cc6032",
      "metadata": {
        "id": "c5cc6032"
      },
      "outputs": [],
      "source": [
        "class SimpleFFNN(nn.Module):\n",
        "    def __init__(self):\n",
        "        super(SimpleFFNN, self).__init__()\n",
        "\n",
        "        self.input_layer = nn.Linear(28 * 28, 512)\n",
        "        self.hidden_layers = nn.Sequential(\n",
        "            nn.ReLU(),\n",
        "            nn.Linear(512, 256),\n",
        "            nn.ReLU(),\n",
        "            nn.Linear(256, 128),\n",
        "            nn.ReLU(),\n",
        "            nn.Linear(128, 64),\n",
        "            nn.ReLU(),\n",
        "            nn.Linear(64, 32),\n",
        "            nn.ReLU(),\n",
        "            nn.Linear(32, 16),\n",
        "            nn.ReLU(),\n",
        "        )\n",
        "        self.output_layer = nn.Linear(16, 10)\n",
        "\n",
        "    def forward(self, x):\n",
        "        x = x.view(x.size(0), -1)\n",
        "        x = self.input_layer(x)\n",
        "        x = self.hidden_layers(x)\n",
        "        x = self.output_layer(x)\n",
        "        return x"
      ]
    },
    {
      "cell_type": "code",
      "execution_count": 178,
      "id": "02443c7c",
      "metadata": {
        "colab": {
          "base_uri": "https://localhost:8080/"
        },
        "id": "02443c7c",
        "outputId": "14ccdb58-204c-4765-f9a0-de7ca849c9f1"
      },
      "outputs": [
        {
          "name": "stdout",
          "output_type": "stream",
          "text": [
            "577178\n",
            "SimpleFFNN(\n",
            "  (input_layer): Linear(in_features=784, out_features=512, bias=True)\n",
            "  (hidden_layers): Sequential(\n",
            "    (0): ReLU()\n",
            "    (1): Linear(in_features=512, out_features=256, bias=True)\n",
            "    (2): ReLU()\n",
            "    (3): Linear(in_features=256, out_features=128, bias=True)\n",
            "    (4): ReLU()\n",
            "    (5): Linear(in_features=128, out_features=64, bias=True)\n",
            "    (6): ReLU()\n",
            "    (7): Linear(in_features=64, out_features=32, bias=True)\n",
            "    (8): ReLU()\n",
            "    (9): Linear(in_features=32, out_features=16, bias=True)\n",
            "    (10): ReLU()\n",
            "  )\n",
            "  (output_layer): Linear(in_features=16, out_features=10, bias=True)\n",
            ")\n"
          ]
        }
      ],
      "source": [
        "# Instantiate the model\n",
        "model = SimpleFFNN()\n",
        "model.to(device)\n",
        "\n",
        "# Print the number of parameters in the model\n",
        "print(sum(p.numel() for p in model.parameters() if p.requires_grad))\n",
        "\n",
        "# Print the model structure\n",
        "print(model)"
      ]
    },
    {
      "cell_type": "markdown",
      "id": "5b4c8c22",
      "metadata": {
        "id": "5b4c8c22"
      },
      "source": [
        "#### Step 3: Training your model [10 Marks]"
      ]
    },
    {
      "cell_type": "markdown",
      "id": "833b98e1",
      "metadata": {
        "id": "833b98e1"
      },
      "source": [
        "Before we begin training, we will need to set up a loss function and an optimizer for training our model.\n",
        "\n",
        "In this assignment, we will use `nn.CrossEntropyLoss` for classification. Like any loss function, CELoss would expect `y_true` and `y_predicted`. One thing I want you to think about is whether you should pass raw logits or softmax outputs as y_predicted, and why. (This may also have an implication on your model's forward pass). Make sure you look at the example in the documentation [here](https://pytorch.org/docs/stable/generated/torch.nn.CrossEntropyLoss.html).\n",
        "\n",
        "The `optimizer` is a PyTorch class that updates the model's weights based on the gradients computed during backpropagation. For this assignment our optimizer will use simple Stochastic Gradient Descent, `SGD`, that you studied in class. You may look at the documentation [here](https://pytorch.org/docs/stable/generated/torch.optim.SGD.html).\n",
        "\n",
        "\n",
        "Useful functions that you should know are:\n",
        "```python\n",
        "loss.backward() # Does backpropagation after calculating the loss\n",
        "optimizer.zero_grad() # clears old gradients before computing new ones to prevent accumulation\n",
        "optimizer.step() # updates the weights based on the computed gradients.\n",
        "```"
      ]
    },
    {
      "cell_type": "code",
      "execution_count": 179,
      "id": "8142d19a",
      "metadata": {
        "id": "8142d19a"
      },
      "outputs": [],
      "source": [
        "# Define the loss function\n",
        "loss_function = nn.CrossEntropyLoss()\n",
        "\n",
        "# Define the optimizer\n",
        "optimizer = torch.optim.SGD(model.parameters(), lr = 0.01, momentum = 0.9)"
      ]
    },
    {
      "cell_type": "markdown",
      "id": "90079486",
      "metadata": {
        "id": "90079486"
      },
      "source": [
        "We can finally begin training our network. You should be careful when handling gradients, loss computation, and weight updates through backpropagation.\n",
        "\n",
        "Since we might have to train our model multiple times, it is good practice to write a training loop. The training loop should be a function that does the following:\n",
        "\n",
        "1. Forward Pass: Pass the input data through the model to get predictions (logits).\n",
        "2. Loss Calculation: Compute the loss by comparing the logits and the true labels.\n",
        "3. Zero Gradients: Call `optimizer.zero_grad()` to reset the gradients from the previous iteration.\n",
        "4. Backward Pass: Call `loss.backward()` to compute the gradients of the loss with respect to each model parameter. This step performs backpropagation.\n",
        "5. Update Weights: Call `optimizer.step()` to update the model's weights based on the computed gradients.\n",
        "\n",
        "Note that\n",
        "- Backpropagation: `loss.backward()` computes the gradient of the loss for each parameter in the model. These gradients are used by the optimizer to update the model parameters.\n",
        "- Ensure that gradients are reset at the start of each iteration using `optimizer.zero_grad()`, so they don't accumulate.\n",
        "- Make sure you move both your model and inputs to device.\n",
        "- It may be a good idea to print the loss after every few iterations, perhaps you may also look into `tqdm` [here](https://tqdm.github.io/)."
      ]
    },
    {
      "cell_type": "code",
      "execution_count": 180,
      "id": "9ec9ab3a",
      "metadata": {
        "id": "9ec9ab3a"
      },
      "outputs": [],
      "source": [
        "def train_loop(model, train_loader, test_loader, optimizer, loss_function, device):\n",
        "    model.train()\n",
        "    total_loss = 0.0\n",
        "    for batch_x, y_true in train_loader:\n",
        "        batch_x, y_true = batch_x.to(device), y_true.to(device)\n",
        "        optimizer.zero_grad()\n",
        "        y_pred = model(batch_x)\n",
        "        loss = loss_function(y_pred, y_true)\n",
        "        loss.backward()\n",
        "        optimizer.step()\n",
        "        total_loss += loss.item()\n",
        "    return total_loss / len(train_loader)"
      ]
    },
    {
      "cell_type": "markdown",
      "id": "774c8cf0",
      "metadata": {
        "id": "774c8cf0"
      },
      "source": [
        "It is also a useful to have a function to evaluate the model's performance on test data. We will use an `evaluate` function that takes the model and dataloader. Since we do not need any backpropagation during inference, you should wrap your function in `torch.no_grad()` to disable gradient computation, saving memory and computation. Your function should return both average accuracy and loss."
      ]
    },
    {
      "cell_type": "code",
      "execution_count": 181,
      "id": "609c3de5",
      "metadata": {
        "id": "609c3de5"
      },
      "outputs": [],
      "source": [
        "def evaluate(model, test_loader, device): # return loss and accuracy\n",
        "    with torch.no_grad():\n",
        "        total_loss = 0\n",
        "        correct = 0\n",
        "        total = 0\n",
        "        for batch_x, y_true in test_loader:\n",
        "            batch_x, y_true = batch_x.to(device), y_true.to(device)\n",
        "            y_pred = model(batch_x)\n",
        "            loss = loss_function(y_pred, y_true)\n",
        "            total_loss += loss.item()\n",
        "            _, predicted = torch.max(y_pred.data, 1)\n",
        "            total += y_true.size(0)\n",
        "            correct += (predicted == y_true).sum().item()\n",
        "        accuracy = 100 * correct / total\n",
        "        avg_loss = total_loss / len(test_loader)\n",
        "    return avg_loss, accuracy"
      ]
    },
    {
      "cell_type": "markdown",
      "id": "8caca3f5",
      "metadata": {
        "id": "8caca3f5"
      },
      "source": [
        "Understanding Training Terminology:\n",
        "\n",
        "`Epoch`: One complete pass through the entire training dataset. Training over multiple epochs allows the model to learn progressively.\n",
        "\n",
        "`Batch`: A small subset of the dataset used to compute the gradient and update the model. Mini-batches enable efficient computation and provide more frequent updates compared to processing the full dataset at once.\n",
        "\n",
        "`Iteration`: One update of the model's parameters, which occurs after processing a single mini-batch. The total number of iterations per epoch is the number of training samples divided by the batch size.\n",
        "\n",
        "You should now use your train loop to train your model upto a desired number of epochs. It may be a good idea to use your `val_loader` to evaluate the model after every epoch. This will allow you to see if the model generalizes well and potentially detect any overfitting. Make sure that you record your average train and validation loss for each epoch because you will have to plot them."
      ]
    },
    {
      "cell_type": "code",
      "execution_count": 182,
      "id": "ee1446aa",
      "metadata": {
        "id": "ee1446aa"
      },
      "outputs": [],
      "source": [
        "epochs = 5\n",
        "train_losses = []\n",
        "val_losses = []\n",
        "# Train the model for a desired number of epochs.\n",
        "for epoch in range(epochs):\n",
        "    train_loss = train_loop(model, train_loader, test_loader, optimizer, loss_function, device)\n",
        "    val_loss, val_accuracy = evaluate(model, val_loader, device)\n",
        "    train_losses.append(train_loss)\n",
        "    val_losses.append(val_loss)"
      ]
    },
    {
      "cell_type": "markdown",
      "id": "b3492044",
      "metadata": {
        "id": "b3492044"
      },
      "source": [
        "Now you should plot your loss curves (for both train and validation) for each epoch"
      ]
    },
    {
      "cell_type": "code",
      "execution_count": 183,
      "id": "ec9460f7",
      "metadata": {
        "colab": {
          "base_uri": "https://localhost:8080/",
          "height": 487
        },
        "id": "ec9460f7",
        "outputId": "1acb8458-d489-42e2-a323-f6b76c567a2a"
      },
      "outputs": [
        {
          "data": {
            "image/png": "[encoded data removed]",
            "text/plain": [
              "<Figure size 1200x500 with 1 Axes>"
            ]
          },
          "metadata": {},
          "output_type": "display_data"
        }
      ],
      "source": [
        "epochs_range = [1, 2, 3, 4, 5]\n",
        "plt.figure(figsize=(12, 5))\n",
        "plt.plot(epochs_range, train_losses, label='Training Loss')\n",
        "plt.plot(epochs_range, val_losses, label='Validation Loss')\n",
        "plt.xlabel('Epochs')\n",
        "plt.ylabel('Loss')\n",
        "plt.legend()\n",
        "plt.title('Training and Validation Loss')\n",
        "plt.show()"
      ]
    },
    {
      "cell_type": "markdown",
      "id": "0312307a",
      "metadata": {
        "id": "0312307a"
      },
      "source": [
        "Finally, we will use `test_loader` to evaluate our trained model. Remember that the accuracy here should be **atleast 95%**. If the desired accuracy is not reached, you should first check your implementation, and if its correct, then start tweaking the hyperparameters and retrain your model until you reach the desired accuracy."
      ]
    },
    {
      "cell_type": "code",
      "execution_count": 184,
      "id": "7b823449",
      "metadata": {
        "colab": {
          "base_uri": "https://localhost:8080/"
        },
        "id": "7b823449",
        "outputId": "e7d95c96-0b39-47ee-ff91-a70896d08496"
      },
      "outputs": [
        {
          "name": "stdout",
          "output_type": "stream",
          "text": [
            "Test Loss: 0.1031, Test Accuracy: 97.30%\n"
          ]
        }
      ],
      "source": [
        "## Evaluate the model.\n",
        "test_loss, test_accuracy = evaluate(model, test_loader, device)\n",
        "print(f'Test Loss: {test_loss:.4f}, Test Accuracy: {test_accuracy:.2f}%')"
      ]
    },
    {
      "cell_type": "markdown",
      "id": "be193b17",
      "metadata": {
        "id": "be193b17"
      },
      "source": [
        "#### Step 4: Saving your model"
      ]
    },
    {
      "cell_type": "markdown",
      "id": "f3db6ea1",
      "metadata": {
        "id": "f3db6ea1"
      },
      "source": [
        "In PyTorch, there are two main ways to save models: **state dictionary** and **full model saving**.\n",
        "\n",
        "State Dictionary:\n",
        "- The `state_dict` contains all the parameters of the model (weights and biases).\n",
        "- Saving the state_dict allows you to only store the learned parameters, making the saved file smaller and more flexible. You can load it into any model architecture that matches the saved parameters.\n",
        "\n",
        "Full Model Saving:\n",
        "- Saving the full model stores both the model's architecture and its parameters. This method is more convenient as it preserves the entire model structure but results in larger file sizes.\n",
        "\n",
        "Why Save Your Model?\n",
        "Saving your model is crucial because once the kernel crashes or you close your laptop, you lose your model and its training progress. Saving the model ensures you can resume from where you left off, perform inference, or share your trained model with others.\n",
        "\n",
        "Once you have saved your model, you can load it back into memory using `torch.load()`. This allows you to restore the model's architecture and learned parameters, enabling you to run inference or continue training from where you left off.\n",
        "\n",
        "For this assignment, we will save the full model, as it will be used for inference and grading. Use `torch.save()` to save the model. This will allow us to run inference on the saved model during evaluation and grading."
      ]
    },
    {
      "cell_type": "code",
      "execution_count": 185,
      "id": "e4080072",
      "metadata": {
        "id": "e4080072"
      },
      "outputs": [],
      "source": [
        "# Save the entire model\n",
        "torch.save(model, 'G_69_S_1_FNN.pth')"
      ]
    },
    {
      "cell_type": "markdown",
      "id": "d4994fca",
      "metadata": {
        "id": "d4994fca"
      },
      "source": [
        "## Section 3: Convolutional Neural Networks [30 Marks]"
      ]
    },
    {
      "cell_type": "markdown",
      "id": "2e99483e",
      "metadata": {
        "id": "2e99483e"
      },
      "source": [
        "### Step 1: Loading & Visualizing CIFAR-10\n",
        "\n",
        "You now understand the flow of training a model. Let's now train a Convolutional Neural Network using our knowledge from Part 2. Like always, the first step is to load CIFAR-10 and Construct Dataloaders.\n",
        "\n",
        "- Use torchvision.datasets.CIFAR10 to download the dataset.\n",
        "- Apply transformations: convert images to tensors and normalize them using mean [0.4914, 0.4822, 0.4465] and std [0.2470, 0.2435, 0.2616] for each RGB channel.\n",
        "- Split the dataset into training (80%), validation (10%), and test (10%) sets.\n",
        "- Create DataLoader instances with a reasonable batch size (32 or 64), make sure you shuffle the training data.\n",
        "- Visualize atleast 10 samples from the training set including their labels (label and not label index)."
      ]
    },
    {
      "cell_type": "code",
      "execution_count": 186,
      "id": "f52249be",
      "metadata": {
        "id": "f52249be"
      },
      "outputs": [],
      "source": [
        "transform = torchvision.transforms.Compose([\n",
        "    torchvision.transforms.ToTensor(),\n",
        "    torchvision.transforms.Normalize((0.4914, 0.4822, 0.4465), (0.2470, 0.2435, 0.2616))\n",
        "])  # Define transforms (ToTensor + Normalize)\n",
        "\n",
        "dataset = torchvision.datasets.CIFAR10(root = './data', train = True, download = True, transform = transform)    # Download CIFAR-10 with transforms\n",
        "train_set, validation_set = torch.utils.data.dataset.random_split(dataset, [40000, 10000])  # Split into training and validation sets\n",
        "test_set = torchvision.datasets.CIFAR10(root = './data', train = False, download = True, transform = transform)  # Download CIFAR-10 test set\n",
        "train_loader = torch.utils.data.DataLoader(train_set, batch_size = 64, shuffle = True)  # DataLoader for training\n",
        "val_loader = torch.utils.data.DataLoader(validation_set, batch_size = 64, shuffle = False)     # DataLoader for validation\n",
        "test_loader = torch.utils.data.DataLoader(test_set, batch_size = 64, shuffle = False)   # DataLoader for "
      ]
    },
    {
      "cell_type": "code",
      "execution_count": 187,
      "id": "95e605dc",
      "metadata": {
        "id": "95e605dc"
      },
      "outputs": [
        {
          "data": {
            "image/png": "[encoded data removed]",
            "text/plain": [
              "<Figure size 1000x1000 with 1 Axes>"
            ]
          },
          "metadata": {},
          "output_type": "display_data"
        },
        {
          "data": {
            "image/png": "[encoded data removed]",
            "text/plain": [
              "<Figure size 1000x1000 with 1 Axes>"
            ]
          },
          "metadata": {},
          "output_type": "display_data"
        },
        {
          "data": {
            "image/png": "[encoded data removed]",
            "text/plain": [
              "<Figure size 1000x1000 with 1 Axes>"
            ]
          },
          "metadata": {},
          "output_type": "display_data"
        },
        {
          "data": {
            "image/png": "[encoded data removed]",
            "text/plain": [
              "<Figure size 1000x1000 with 1 Axes>"
            ]
          },
          "metadata": {},
          "output_type": "display_data"
        },
        {
          "data": {
            "image/png": "[encoded data removed]",
            "text/plain": [
              "<Figure size 1000x1000 with 1 Axes>"
            ]
          },
          "metadata": {},
          "output_type": "display_data"
        },
        {
          "data": {
            "image/png": "[encoded data removed]",
            "text/plain": [
              "<Figure size 1000x1000 with 1 Axes>"
            ]
          },
          "metadata": {},
          "output_type": "display_data"
        },
        {
          "data": {
            "image/png": "[encoded data removed]",
            "text/plain": [
              "<Figure size 1000x1000 with 1 Axes>"
            ]
          },
          "metadata": {},
          "output_type": "display_data"
        },
        {
          "data": {
            "image/png": "[encoded data removed]",
            "text/plain": [
              "<Figure size 1000x1000 with 1 Axes>"
            ]
          },
          "metadata": {},
          "output_type": "display_data"
        },
        {
          "data": {
            "image/png": "[encoded data removed]",
            "text/plain": [
              "<Figure size 1000x1000 with 1 Axes>"
            ]
          },
          "metadata": {},
          "output_type": "display_data"
        },
        {
          "data": {
            "image/png": "[encoded data removed]",
            "text/plain": [
              "<Figure size 1000x1000 with 1 Axes>"
            ]
          },
          "metadata": {},
          "output_type": "display_data"
        }
      ],
      "source": [
        "### Visualize 10 Samples\n",
        "images, labels = next(iter(train_loader))  # Get the first batch of data (remember train_loaders are ITERABLE, and every iteration contains 1 mini-batch of data)\n",
        "\n",
        "### Visualization Code Here\n",
        "for i in range(10):\n",
        "    plt.figure(figsize = (10, 10))\n",
        "    plt.subplot(1, 10, i + 1)\n",
        "    plt.imshow(images[i][0])\n",
        "    plt.title(f\"Label: {labels[i]}\")\n",
        "    plt.axis('off')\n",
        "    plt.show()\n"
      ]
    },
    {
      "cell_type": "markdown",
      "id": "11b160ee",
      "metadata": {
        "id": "11b160ee"
      },
      "source": [
        "### Step 2: Model Architecture\n",
        "\n",
        "Design a Simple CNN model. Ensure the model handles 3-channel input (RGB) and outputs 10 classes. Make sure that total parameters must be less than `5 million`.\n",
        "\n",
        "You may find the following modules useful:\n",
        "\n",
        "```python\n",
        "nn.Conv2d\n",
        "nn.MaxPool2d\n",
        "nn.Dropout\n",
        "nn.Linear\n",
        "nn.ReLU\n",
        "nn.Sigmoid\n",
        "nn.BatchNorm2d\n",
        "```"
      ]
    },
    {
      "cell_type": "code",
      "execution_count": 188,
      "id": "56e530c9",
      "metadata": {
        "id": "56e530c9"
      },
      "outputs": [],
      "source": [
        "class SimpleCNN(nn.Module):\n",
        "    def __init__(self):\n",
        "        super(SimpleCNN, self).__init__()\n",
        "        self.layer = nn.Sequential(\n",
        "            nn.Conv2d(3, 64, kernel_size=3, stride=1, padding=1),\n",
        "            nn.BatchNorm2d(64),\n",
        "            nn.ReLU(),\n",
        "            nn.MaxPool2d(kernel_size=2, stride=2),\n",
        "\n",
        "            nn.Conv2d(64, 128, kernel_size=3, stride=1, padding=1),\n",
        "            nn.BatchNorm2d(128),\n",
        "            nn.ReLU(),\n",
        "            nn.MaxPool2d(kernel_size=2, stride=2),\n",
        "            nn.Dropout(0.2),\n",
        "\n",
        "            nn.Conv2d(128, 256, kernel_size=3, stride=1, padding=1),\n",
        "            nn.BatchNorm2d(256),\n",
        "            nn.ReLU(),\n",
        "            nn.MaxPool2d(kernel_size=2, stride=2),\n",
        "\n",
        "            nn.Conv2d(256, 512, kernel_size=3, stride=1, padding=1),\n",
        "            nn.BatchNorm2d(512),\n",
        "            nn.ReLU(),\n",
        "            nn.MaxPool2d(kernel_size=2, stride=2),\n",
        "            nn.Dropout(0.2),\n",
        "\n",
        "            nn.Flatten(),\n",
        "\n",
        "            nn.Linear(512 * 2 * 2, 512),\n",
        "            nn.ReLU(),\n",
        "            nn.Dropout(0.2),\n",
        "\n",
        "            nn.Linear(512, 128),\n",
        "            nn.ReLU(),\n",
        "\n",
        "            nn.Linear(128, 10)\n",
        "\n",
        "        )\n",
        "    \n",
        "    def forward(self, x):\n",
        "        return self.layer(x)"
      ]
    },
    {
      "cell_type": "markdown",
      "id": "0c560b3c",
      "metadata": {
        "id": "0c560b3c"
      },
      "source": [
        "Instantiate your model and print the number of parameters"
      ]
    },
    {
      "cell_type": "code",
      "execution_count": 189,
      "id": "5d43dc14",
      "metadata": {
        "id": "5d43dc14"
      },
      "outputs": [
        {
          "name": "stdout",
          "output_type": "stream",
          "text": [
            "2668938\n"
          ]
        }
      ],
      "source": [
        "model = SimpleCNN()\n",
        "model.to(device)\n",
        "num_params = sum(p.numel() for p in model.parameters() if p.requires_grad)\n",
        "\n",
        "print(num_params)"
      ]
    },
    {
      "cell_type": "markdown",
      "id": "4429b5c7",
      "metadata": {
        "id": "4429b5c7"
      },
      "source": [
        "### Step 3: Train your model\n",
        "\n",
        "Reuse the `train_loop` and `evaluate` functions from Part 2. Declare an appropriate loss function and optimizer. Adjust hyperparameters (e.g., learning rate) as needed. You should train your model for no more than `10 epochs`. Make sure you plot your loss curves (train and validation) for every epoch."
      ]
    },
    {
      "cell_type": "code",
      "execution_count": 192,
      "id": "1513b545",
      "metadata": {
        "id": "1513b545"
      },
      "outputs": [
        {
          "data": {
            "image/png": "[encoded data removed]",
            "text/plain": [
              "<Figure size 1200x500 with 1 Axes>"
            ]
          },
          "metadata": {},
          "output_type": "display_data"
        }
      ],
      "source": [
        "loss_function = nn.CrossEntropyLoss(label_smoothing=0.05)\n",
        "optimizer = torch.optim.SGD(model.parameters(), lr=0.01, momentum=0.9, weight_decay=1e-4)\n",
        "\n",
        "\n",
        "epochs = 10\n",
        "train_losses = []\n",
        "val_losses = []\n",
        "# Train the model for a desired number of epochs.\n",
        "for epoch in range(epochs):\n",
        "    train_loss = train_loop(model, train_loader, test_loader, optimizer, loss_function, device)\n",
        "    val_loss, val_accuracy = evaluate(model, val_loader, device)\n",
        "    train_losses.append(train_loss)\n",
        "    val_losses.append(val_loss)\n",
        "\n",
        "epochs_range = [1, 2, 3, 4, 5, 6, 7, 8, 9, 10]\n",
        "plt.figure(figsize=(12, 5))\n",
        "plt.plot(epochs_range, train_losses, label='Training Loss')\n",
        "plt.plot(epochs_range, val_losses, label='Validation Loss')\n",
        "plt.xlabel('Epochs')\n",
        "plt.ylabel('Loss')\n",
        "plt.legend()\n",
        "plt.title('Training and Validation Loss')\n",
        "plt.show()"
      ]
    },
    {
      "cell_type": "markdown",
      "id": "183979de",
      "metadata": {
        "id": "183979de"
      },
      "source": [
        "### Step 4: Evaluate your model\n",
        "\n",
        "You should evaluate your model on the test dataloader now. Make sure that your test accuracy is atleast `70%`. If it is less then unfortunately you will have to tweak your hyperparameters or model architectures and retrain (or lose some marks?)."
      ]
    },
    {
      "cell_type": "code",
      "execution_count": 193,
      "id": "282f9007",
      "metadata": {
        "id": "282f9007"
      },
      "outputs": [
        {
          "name": "stdout",
          "output_type": "stream",
          "text": [
            "Test Loss: 0.8689, Test Accuracy: 78.06%\n"
          ]
        }
      ],
      "source": [
        "## Evaluate the model.\n",
        "test_loss, test_accuracy = evaluate(model, test_loader, device)\n",
        "print(f'Test Loss: {test_loss:.4f}, Test Accuracy: {test_accuracy:.2f}%')"
      ]
    },
    {
      "cell_type": "markdown",
      "id": "dcdc18c0",
      "metadata": {
        "id": "dcdc18c0"
      },
      "source": [
        "### Step 5: Save your model\n",
        "\n",
        "\n",
        "Save your final model as a `.pth` file. Make sure you save the entire model and not just the state dictionary. We will load your model and test it, so make sure you save your best model."
      ]
    },
    {
      "cell_type": "code",
      "execution_count": 194,
      "id": "97afe6d9",
      "metadata": {
        "id": "97afe6d9"
      },
      "outputs": [],
      "source": [
        "# Save the entire model\n",
        "torch.save(model, 'G_69_S_1_CNN.pth')"
      ]
    },
    {
      "cell_type": "markdown",
      "id": "845ed2e9",
      "metadata": {
        "id": "845ed2e9"
      },
      "source": [
        "## Section 4: Exploration [30 Marks]"
      ]
    },
    {
      "cell_type": "markdown",
      "id": "206e3964",
      "metadata": {
        "id": "206e3964"
      },
      "source": [
        "You are to attempt any 2 tasks out of the 3."
      ]
    },
    {
      "cell_type": "markdown",
      "id": "473ffbfc",
      "metadata": {
        "id": "473ffbfc"
      },
      "source": [
        "### Task 1: Transfer Learning"
      ]
    },
    {
      "cell_type": "markdown",
      "id": "e0d0b20c",
      "metadata": {
        "id": "e0d0b20c"
      },
      "source": [
        "Transfer learning is the process of adapting a pre-trained model to a new, related task by fine-tuning its parameters, thereby leveraging the general features learned from large datasets such as ImageNet. Pretrained models, also known as foundation models, capture a diverse range of features that are useful for many vision tasks, and fine-tuning these models requires less computational resources and data compared to training a network from scratch.\n",
        "\n",
        "This task will help you understand the process of working with pretrained models in PyTorch, focusing on importing the VGG11 model pretrained on ImageNet, freezing its backbone, and fine-tuning a new classifier head for CIFAR10.\n",
        "\n",
        "Follow the steps below to understand the workflow.\n",
        "\n",
        "You should do the following steps:\n",
        "- You should import a pretrained [VGG11]((https://pytorch.org/vision/main/models/generated/torchvision.models.vgg11.html).) model from torchvision.\n",
        "- By importing `VGG11_Weights` and then using the `ImageNet22k_Weights.DEFAULT` option within the model loading function, the VGG11 model will be initialized with weights obtained from extensive training on approximately 14 million images across 22,000 classes.\n",
        "- To adapt the pretrained VGG11 model for CIFAR10, which has 10 classes, a common strategy is to freeze the backbone and train a new classifier head.\n",
        "- The Backbone refers to the convolutional base of the VGG11 model responsible for feature extraction.\n",
        "- Freezing involves setting the parameters of the backbone layers so that their values do not change during training (for example, by setting `requires_grad=False` on these parameters).\n",
        "- This approach leverages the already learned features from ImageNet, reducing the training time and required amount of CIFAR10 data.\n",
        "- After freezing the backbone, the final classification layer (or head) is replaced or modified to suit the CIFAR10 classification task.\n",
        "- The new classifier head is initialized with random weights and is trained on CIFAR10 data.\n",
        "- Only the parameters of this new head are updated during training, which helps in adapting the model’s predictions to the specifics of CIFAR10.\n",
        "- Finally, you should evaluate the accuracy of your pretrained model on CIFAR-10 and compare it with when you trained the model from scratch in the previous part. Also comment briefly on the training time/compute required for both of the tasks."
      ]
    },
    {
      "cell_type": "code",
      "execution_count": null,
      "id": "4679c3c6",
      "metadata": {
        "colab": {
          "base_uri": "https://localhost:8080/"
        },
        "id": "4679c3c6",
        "outputId": "b752feeb-ac4e-40ae-fe79-0b706ee11ad7"
      },
      "outputs": [
        {
          "name": "stderr",
          "output_type": "stream",
          "text": [
            "Downloading: \"https://download.pytorch.org/models/vgg11-8a719046.pth\" to /root/.cache/torch/hub/checkpoints/vgg11-8a719046.pth\n",
            "100%|██████████| 507M/507M [00:07<00:00, 73.7MB/s]\n",
            "100%|██████████| 170M/170M [00:03<00:00, 43.1MB/s]\n"
          ]
        },
        {
          "name": "stdout",
          "output_type": "stream",
          "text": [
            "Epoch [1/10], Loss: 0.7271, Accuracy: 76.69%\n",
            "Epoch [2/10], Loss: 0.5183, Accuracy: 84.59%\n",
            "Epoch [3/10], Loss: 0.4103, Accuracy: 88.22%\n",
            "Epoch [4/10], Loss: 0.3730, Accuracy: 89.90%\n",
            "Epoch [5/10], Loss: 0.3458, Accuracy: 90.84%\n",
            "Epoch [6/10], Loss: 0.3185, Accuracy: 92.11%\n",
            "Epoch [7/10], Loss: 0.2942, Accuracy: 93.08%\n",
            "Epoch [8/10], Loss: 0.2725, Accuracy: 93.44%\n",
            "Epoch [9/10], Loss: 0.2596, Accuracy: 93.96%\n",
            "Epoch [10/10], Loss: 0.2554, Accuracy: 94.24%\n"
          ]
        }
      ],
      "source": [
        "# Importing VGG11 and freezing its backbone (all from documentation), and training new head/dataset for CIFAR10\n",
        "\n",
        "from torchvision.models import vgg11, VGG11_Weights\n",
        "import torchvision.transforms as transforms\n",
        "\n",
        "\n",
        "model = torchvision.models.vgg11(weights=VGG11_Weights.IMAGENET1K_V1)\n",
        "\n",
        "# Freezing classifier and training new classifier head\n",
        "for param in model.features.parameters():\n",
        "    param.requires_grad = False\n",
        "\n",
        "# Training new head because VGG has 1000 output classes but CIFAR10 has only 10\n",
        "model.classifier[6] = nn.Linear(4096, 10)\n",
        "device = torch.device(\"cuda\" if torch.cuda.is_available() else \"cpu\")\n",
        "model.to(device)\n",
        "\n",
        "# Define loss and optimizer\n",
        "criterion = nn.CrossEntropyLoss()\n",
        "optimizer = torch.optim.Adam(model.classifier.parameters(), lr=0.001)\n",
        "\n",
        "# Training CIFAR10 images on VGG model\n",
        "# First specify ke jo data import kerain ga us mein kiya kiya changes kerni, resize kerna, normalize kerna and then tensor bhi banana.\n",
        "# After this, just download the dataset and pass it through this pipeline/workflow\n",
        "\n",
        "transform = transforms.Compose([transforms.Resize(224),transforms.ToTensor(),transforms.Normalize(mean=[0.485, 0.456, 0.406], std=[0.229, 0.224, 0.225])])\n",
        "train_set = torchvision.datasets.CIFAR10(root='./data',train=True,download=True,transform=transform)\n",
        "\n",
        "# Abh train_set ka batches banana hain aur unhain data loaders ke through model se train kerna hai\n",
        "train_loader = torch.utils.data.DataLoader(train_set,batch_size=64,shuffle=True)\n",
        "\n",
        "num_epochs = 10\n",
        "\n",
        "for epoch in range(num_epochs):\n",
        "    model.train()\n",
        "    running_loss = 0.0\n",
        "    correct = 0\n",
        "    total = 0\n",
        "\n",
        "    for images, labels in train_loader:\n",
        "        images, labels = images.to(device), labels.to(device)\n",
        "\n",
        "        # Forward pass\n",
        "        outputs = model(images)\n",
        "        loss = criterion(outputs, labels)\n",
        "\n",
        "        # Backward pass\n",
        "        optimizer.zero_grad()\n",
        "        loss.backward()\n",
        "        optimizer.step()\n",
        "\n",
        "        # Statistics\n",
        "        running_loss += loss.item()\n",
        "        _, predicted = torch.max(outputs.data, 1)\n",
        "        total += labels.size(0)\n",
        "        for i in range(len(predicted)):\n",
        "          if predicted[i] == labels[i]:\n",
        "              correct += 1\n",
        "          else:\n",
        "              correct += 0\n",
        "\n",
        "    epoch_loss = running_loss / len(train_loader)\n",
        "    epoch_acc = 100 * correct / total\n",
        "    print(f'Epoch [{epoch+1}/{num_epochs}], Loss: {epoch_loss:.4f}, Accuracy: {epoch_acc:.2f}%')\n"
      ]
    },
    {
      "cell_type": "markdown",
      "id": "mcndCoxoTRZ3",
      "metadata": {
        "id": "mcndCoxoTRZ3"
      },
      "source": [
        "The accuraccy increases with each epoch i.e each time a model is trained. Originaly VGG11 is a model that has been trained to classify ImageNet dataset but by the virtue of transfer learning we just changed the last layer such that the modified VGG11 was able to classify the data into 10 classes.\n",
        "\n",
        " During training, the model quickly improves, with accuracy rising from 76.69% to 94.24% over just 10 epochs, and loss steadily decreasing hence showing effective learning. I think that the accuraccy would further increase if we increase the number of epochs."
      ]
    },
    {
      "cell_type": "markdown",
      "id": "53a2b36d",
      "metadata": {
        "id": "53a2b36d"
      },
      "source": [
        "### Task 2: GradCAM Visualizations"
      ]
    },
    {
      "cell_type": "markdown",
      "id": "e8154835",
      "metadata": {
        "id": "e8154835"
      },
      "source": [
        "GradCAM (Gradient-weighted Class Activation Mapping) provides visual explanations for CNN decisions by highlighting important regions in an image. This guide walks through setting up GradCAM with a pretrained model, visualizing feature maps, and additional tips for interpretability.\n",
        "\n",
        "GradCAM reveals where a CNN looks to decide on a class. By computing the gradient of the output with respect to a convolutional layer's features and applying a ReLU on the weighted sum, a heatmap is produced. Overlaying this heatmap on the original image shows the regions influencing the model's decision. You need to refer to the [official repository](https://github.com/jacobgil/pytorch-grad-cam) here to see usage examples.\n",
        "\n",
        "To conduct a gradcam analysis, you need the following:\n",
        "- Your CNN Model from Part 3\n",
        "- Select a target layer.\n",
        "- Select a target class. For example, `ClassifierOutputTarget(0)` would visualize for class 0.\n",
        "- Generate and Visualize the Heatmap.\n",
        "\n",
        "Your task is to preprocess 6 input images from different classes, generate the GradCAM heatmap, and overlay it on the original image. You are to submit these visualizations."
      ]
    },
    {
      "cell_type": "code",
      "execution_count": null,
      "id": "affbe138",
      "metadata": {
        "id": "affbe138"
      },
      "outputs": [],
      "source": [
        "### You are free to make as many cells as you want"
      ]
    },
    {
      "cell_type": "markdown",
      "id": "24ccf168",
      "metadata": {
        "id": "24ccf168"
      },
      "source": [
        "### Task 3: Out of Distribution (OOD) Robustness"
      ]
    },
    {
      "cell_type": "markdown",
      "id": "0e7d0ad8",
      "metadata": {
        "id": "0e7d0ad8"
      },
      "source": [
        "Machine learning models often perform remarkably well on test data drawn from the same distribution as their training data. However, they can fail drastically when faced with Out-of-Distribution (OOD) inputs—data that deviates from what the model has seen during training.\n",
        "\n",
        "Imagine a model trained to classify images of animals. It may correctly identify a photo of a horse but struggle with a sketch of a horse, even though both are semantically the same. This is a classic case of OOD generalization failure. Similarly, a model trained only on images taken during the day may perform poorly on images captured at night, even though the underlying objects remain the same.\n",
        "\n",
        "In this task, you will investigate how robust your models are when faced with such distributional shifts by conducting a simple experiment. Your MNIST classifier has likely never seen digits written by you. In this task, you will generate OOD data by manually writing digits on paper, photographing them, and testing the model’s predictions.\n",
        "\n",
        "Steps:\n",
        "- Write digits 0–9 on a blank sheet of paper.\n",
        "- Take clear, well-lit photos of the sheet.\n",
        "- Load and Visualize these JPEGs\n",
        "- We now preprocess each image. Convert it to grayscale tensors.\n",
        "- Invert the colors (so the digits are white on a black background).\n",
        "- Resize it to 28x28 pixels using transforms.Resize\n",
        "- Perform any other transforms that you did on your original MNIST dataset such as normalization.\n",
        "- Pass these images through your trained MNIST model and observe how it performs.\n",
        "- Comment on your accuracy and on which digits were easier or harder to classify and hypothesize why.\n",
        "\n",
        "By conducting these experiments, you'll gain a better understanding of how fragile deep learning models can be when moved away from their original training distribution—and why OOD robustness is an important topic in real-world deployments."
      ]
    },
    {
      "cell_type": "code",
      "execution_count": 35,
      "id": "104b138d",
      "metadata": {
        "colab": {
          "base_uri": "https://localhost:8080/"
        },
        "id": "104b138d",
        "outputId": "b7c3fd1e-57be-4c5a-d619-984d0309626e"
      },
      "outputs": [
        {
          "name": "stdout",
          "output_type": "stream",
          "text": [
            "Image 1: True label = 0, Predicted label = 9\n",
            "Image 2: True label = 1, Predicted label = 1\n",
            "Image 3: True label = 2, Predicted label = 5\n",
            "Image 4: True label = 3, Predicted label = 5\n",
            "Image 5: True label = 4, Predicted label = 4\n",
            "Image 6: True label = 5, Predicted label = 5\n",
            "Image 7: True label = 6, Predicted label = 6\n",
            "Image 8: True label = 7, Predicted label = 4\n",
            "Image 9: True label = 8, Predicted label = 8\n",
            "Image 10: True label = 9, Predicted label = 5\n",
            "Accuracy: 50.00%\n"
          ]
        }
      ],
      "source": [
        "from PIL import Image,ImageOps\n",
        "\n",
        "# making transform pipeline\n",
        "ood_transform = torchvision.transforms.Compose([torchvision.transforms.Grayscale(num_output_channels=1),torchvision.transforms.Resize((28, 28)),torchvision.transforms.ToTensor(),torchvision.transforms.Normalize((0.1307,), (0.3081,))])\n",
        "\n",
        "\n",
        "# Importing the images and storing them in an array\n",
        "image_dir = \"/content/\"\n",
        "image_paths = []\n",
        "\n",
        "for i in range(10):\n",
        "  image_paths.append(f\"{image_dir}{i}.jpg\")\n",
        "\n",
        "# Images ka tensor bana ker batch size dimension daalo\n",
        "tensor_images = []\n",
        "true_labels = []\n",
        "for img_path in image_paths:\n",
        "    # Extract and store true_label\n",
        "    true_label = int(img_path.split('/')[-1].split('.')[0])\n",
        "    true_labels.append(true_label)\n",
        "\n",
        "    img = Image.open(img_path)\n",
        "    img = ImageOps.invert(img.convert('L'))\n",
        "    img_tensor = ood_transform(img).unsqueeze(0).to(device) #kion ka model expects batch to add a batch size of 1 (1,28,28) ->(1,1,28,28)\n",
        "    tensor_images.append(img_tensor)\n",
        "\n",
        "# Concatenate the images, change dimention 0 of batch size from 1 to 10 bec 10 images\n",
        "tensor_images = torch.cat(tensor_images, dim=0)\n",
        "\n",
        "\n",
        "model.eval()\n",
        "\n",
        "predictions = []\n",
        "for img_tensor in tensor_images:\n",
        "  # Disable gradient ki calculations because we have weights pehle\n",
        "    with torch.no_grad():\n",
        "        output = model(img_tensor.unsqueeze(0))\n",
        "        # Extract the value with most prediction and store it in predictions array\n",
        "        prediction = output.argmax(dim=1).item()\n",
        "        predictions.append(prediction)\n",
        "\n",
        "\n",
        "# Evaluating:\n",
        "correct_predictions = 0\n",
        "for i in range(len(true_labels)):\n",
        "    true_label = true_labels[i]\n",
        "    predicted_label = predictions[i]\n",
        "\n",
        "    print(f\"Image {i+1}: True label = {i}, Predicted label = {predicted_label}\")\n",
        "    if true_label == predicted_label:\n",
        "        correct_predictions += 1\n",
        "\n",
        "accuracy = (correct_predictions / len(true_labels)) * 100\n",
        "print(f\"Accuracy: {accuracy:.2f}%\")"
      ]
    },
    {
      "cell_type": "code",
      "execution_count": null,
      "id": "dQ5CSFTEQjRZ",
      "metadata": {
        "id": "dQ5CSFTEQjRZ"
      },
      "outputs": [],
      "source": []
    }
  ],
  "metadata": {
    "colab": {
      "collapsed_sections": [
        "2e305354",
        "7fc6656a",
        "d4994fca",
        "2e99483e",
        "11b160ee",
        "4429b5c7",
        "183979de",
        "dcdc18c0",
        "473ffbfc",
        "53a2b36d"
      ],
      "provenance": []
    },
    "kernelspec": {
      "display_name": "Python 3",
      "name": "python3"
    },
    "language_info": {
      "codemirror_mode": {
        "name": "ipython",
        "version": 3
      },
      "file_extension": ".py",
      "mimetype": "text/x-python",
      "name": "python",
      "nbconvert_exporter": "python",
      "pygments_lexer": "ipython3",
      "version": "3.13.3"
    }
  },
  "nbformat": 4,
  "nbformat_minor": 5
}
