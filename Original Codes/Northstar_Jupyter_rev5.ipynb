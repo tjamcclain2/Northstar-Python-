{
 "cells": [
  {
   "cell_type": "code",
   "execution_count": 1,
   "id": "d1d3d2ba",
   "metadata": {},
   "outputs": [],
   "source": [
    "import math as m\n",
    "import numpy as np\n",
    "import matplotlib.pyplot as plt\n",
    "from numpy import random"
   ]
  },
  {
   "cell_type": "code",
   "execution_count": 60,
   "id": "f4a96f09",
   "metadata": {},
   "outputs": [],
   "source": [
    "number_detectors = 2\n",
    "number_gw_polarizations = 2\n",
    "number_gw_modes = 4\n",
    "number_source_angles = 3\n",
    "hanford_detector_angles = [(46+27/60+18.528/3600)*np.pi/180, (240+35/60+32.4343/3600)*np.pi/180,np.pi/2+125.9994*np.pi/180]\n",
    "livingston_detector_angles = [(30+33/60+46.4196/3600)*np.pi/180, (269+13/60+32.7346/3600)*np.pi/180,np.pi/2+197.7165*np.pi/180]\n",
    "ligo_detector_sampling_rate = 16384\n",
    "earth_radius = 6371000\n",
    "speed_light = 299792458\n",
    "maximum_hanford_livingston_time_delay = 0.010002567302556083\n",
    "weighting_power = 2"
   ]
  },
  {
   "cell_type": "markdown",
   "id": "8af717ec",
   "metadata": {},
   "source": [
    "NOTE: all angles are in radians and all dimension-ful quantities are in SI units (meters, seconds, kilograms, and combinations thereof) unless explicitly indicated otherwise."
   ]
  },
  {
   "cell_type": "code",
   "execution_count": 61,
   "id": "01e4f71b",
   "metadata": {},
   "outputs": [],
   "source": [
    "def transform_2_0_tensor(matrix, change_basis_matrix) : \n",
    "    contravariant_transformation_matrix = np.linalg.inv(change_basis_matrix)\n",
    "    partial_transformation = np.einsum('ki,kl->il', contravariant_transformation_matrix, matrix)\n",
    "    return np.einsum('lj,il->ij', contravariant_transformation_matrix, partial_transformation)\n",
    "\n",
    "def transform_1_1_tensor(matrix, change_basis_matrix) : \n",
    "    contravariant_transformation_matrix = np.linalg.inv(change_basis_matrix)\n",
    "    partial_transformation = np.einsum('ik,kl->il', change_basis_matrix, matrix)\n",
    "    return np.einsum('lj,il->ij', contravariant_transformation_matrix, partial_transformation)\n",
    "\n",
    "def transform_0_2_tensor(matrix, change_basis_matrix) :\n",
    "    partial_transformation = np.einsum('ik,kl->il', change_basis_matrix, matrix)\n",
    "    return np.einsum('jl,il->ij', change_basis_matrix, partial_transformation)"
   ]
  },
  {
   "cell_type": "markdown",
   "id": "41e539a5",
   "metadata": {},
   "source": [
    "These functions take an arbitrary matrix -- a NumPy array -- and the change-of-basis matrix -- another NumPy array -- that effects a change-of-basis -- i.e., transforms the basis vectors -- from the coordinate system in which the matrix is currently expressed to the coordinate system in which you would like the matrix to be expressed. The first function is for (2,0) tensors (i.e., two contravariant/upper indices), the second is for (1,1) tensors (true matrices), and the third is for (0,2) tensors (two covariant/lower indices)."
   ]
  },
  {
   "cell_type": "code",
   "execution_count": 62,
   "id": "73359e31",
   "metadata": {},
   "outputs": [],
   "source": [
    "def source_vector_from_angles(angles) :\n",
    "    [first, second, third] = angles\n",
    "    initial_source_vector = np.array([m.cos(first)*m.cos(second),m.cos(first)*m.sin(second),m.sin(first)])\n",
    "    return initial_source_vector"
   ]
  },
  {
   "cell_type": "markdown",
   "id": "00aad209",
   "metadata": {},
   "source": [
    "This function takes a list with three angles in it -- either the declination, right ascension, and polarization angles of a gravitational wave source, or the latitute, longitude, and orientation  a gravitational wave detector -- and returns a 1D NumPy array representing the unit-length vector from the center  the Earth to the source/detector. Note that only the first two angles are actually needed to compute the unit vector."
   ]
  },
  {
   "cell_type": "code",
   "execution_count": 63,
   "id": "099a7582",
   "metadata": {
    "scrolled": true
   },
   "outputs": [],
   "source": [
    "def change_basis_gw_to_ec(source_angles) :\n",
    "    [declination,right_ascension,polarization] = source_angles\n",
    "    initial_source_vector = source_vector_from_angles(source_angles)\n",
    "    initial_gw_z_vector_earth_centered = -1*initial_source_vector\n",
    "    initial_gw_y_vector_earth_centered = np.array([-1*m.sin(declination)*m.cos(right_ascension),-1*m.sin(declination)*m.sin(right_ascension),m.cos(declination)])\n",
    "    initial_gw_x_vector_earth_centered = np.cross(initial_gw_z_vector_earth_centered,initial_gw_y_vector_earth_centered)\n",
    "    transpose_gw_vecs_ec = np.array([initial_gw_x_vector_earth_centered,initial_gw_y_vector_earth_centered,initial_gw_z_vector_earth_centered])\n",
    "    initial_gw_vecs_ec = np.transpose(transpose_gw_vecs_ec)\n",
    "    polarization_rotation_matrix = np.array([[m.cos(polarization),-1*m.sin(polarization),0],[m.sin(polarization),m.cos(polarization),0],[0,0,1]])\n",
    "    contravariant_transformation_matrix = np.matmul(polarization_rotation_matrix,initial_gw_vecs_ec)\n",
    "    change_basis_matrix = np.linalg.inv(contravariant_transformation_matrix)\n",
    "    return change_basis_matrix"
   ]
  },
  {
   "cell_type": "markdown",
   "id": "21f20b56",
   "metadata": {},
   "source": [
    "This function takes a list with the declination, right ascension, and polarization angles of a gravitational wave source in the Earth-centered coordinate system and returns a NumPy array that effects the change-of-basis (covariant transformation matrix) from the gravitational wave frame to the Earth-centered frame. The inverse of this matrix inverse effects the change-of-basis from the Earth-centered frame to the gravitational wave frame, and is also the contravariant transformation matrix (i.e., changes the components  vectors) from the gravitational wave frame to the Earth-centered frame."
   ]
  },
  {
   "cell_type": "code",
   "execution_count": 64,
   "id": "b5deb5c0",
   "metadata": {},
   "outputs": [],
   "source": [
    "def gravitational_wave_ec_frame(source_angles,tt_amplitudes) :\n",
    "    [hplus,hcross] = tt_amplitudes\n",
    "    gwtt = np.array([[hplus,hcross,0],[hcross,-hplus,0],[0,0,0]])\n",
    "    transformation = change_basis_gw_to_ec(source_angles)\n",
    "    return transform_0_2_tensor(gwtt,transformation)"
   ]
  },
  {
   "cell_type": "markdown",
   "id": "f8066ad6",
   "metadata": {},
   "source": [
    "This function takes two lists -- the first containing the declination, right ascension, and polarization angles of the source, the second containing the \"plus\" and \"cross\" strain amplitudes of the gravitational wave in the transverse, traceless (\"TT\") gauge of the gravitational wave frame -- and returns a NumPy array characterizing the gravitational wave's strain amplitudes in the Earth-centered frame. Note that the strain tensor is a (0-2) tensor."
   ]
  },
  {
   "cell_type": "code",
   "execution_count": 65,
   "id": "1c4cba4a",
   "metadata": {
    "scrolled": true
   },
   "outputs": [],
   "source": [
    "def change_basis_detector_to_ec(detector_angles) :\n",
    "    [latitude,longitude,orientation] = detector_angles\n",
    "    initial_detector_z_vector_earth_centered = source_vector_from_angles(detector_angles)\n",
    "    initial_detector_x_vector_earth_centered = np.array([-1*m.sin(longitude),m.cos(longitude),0])\n",
    "    initial_detector_y_vector_earth_centered = np.cross(initial_detector_z_vector_earth_centered,initial_detector_x_vector_earth_centered)\n",
    "    transpose_detector_vecs_ec = np.array([initial_detector_x_vector_earth_centered,initial_detector_y_vector_earth_centered,initial_detector_z_vector_earth_centered])\n",
    "    initial_detector_vecs_ec = np.transpose(transpose_detector_vecs_ec)\n",
    "    orientation_rotation_matrix = np.array([[m.cos(orientation),-1*m.sin(orientation),0],[m.sin(orientation),m.cos(orientation),0],[0,0,1]])\n",
    "    contravariant_transformation_matrix = np.matmul(orientation_rotation_matrix,initial_detector_vecs_ec)\n",
    "    change_basis_matrix = np.linalg.inv(contravariant_transformation_matrix)\n",
    "    return change_basis_matrix"
   ]
  },
  {
   "cell_type": "markdown",
   "id": "4258d3d9",
   "metadata": {},
   "source": [
    "This function takes a list containing the latitude, longitude, and orientation  a gravitational wave detector and returns a NumPy array that effects the change-of-basis (covariant transformation matrix) from the detector frame to the Earth-centered frame."
   ]
  },
  {
   "cell_type": "code",
   "execution_count": 66,
   "id": "a4faf4f2",
   "metadata": {},
   "outputs": [],
   "source": [
    "def detector_response(detector_angles, source_angles, tt_amplitudes) :\n",
    "    detector_response_tensor_detector_frame = np.array([[1/2,0,0],[0,-1/2,0],[0,0,0]])\n",
    "    transform_detector_to_ec = change_basis_detector_to_ec(detector_angles)\n",
    "    detector_response_tensor_earth_centered = transform_2_0_tensor(detector_response_tensor_detector_frame,transform_detector_to_ec)\n",
    "    gw_earth_centered = gravitational_wave_ec_frame(source_angles,tt_amplitudes)\n",
    "    detector_response = np.tensordot(gw_earth_centered,detector_response_tensor_earth_centered)\n",
    "    return detector_response"
   ]
  },
  {
   "cell_type": "markdown",
   "id": "6a16fdf3",
   "metadata": {},
   "source": [
    "This function takes three lists -- the first containing the latitude, longitude, and orientation angles of a gravitational wave detector, the second containing the declination, right ascension, and polarization angles of the source, and the third containing the \"plus\" and \"cross\" strain amplitudes of the gravitational wave in the transverse, traceless (\"TT\") gauge -- and returns a scalar representing the strain measured by the gravitational wave detector. Note that the detector response tensor is a (2-0) tensor."
   ]
  },
  {
   "cell_type": "code",
   "execution_count": 67,
   "id": "8e8709c6",
   "metadata": {},
   "outputs": [],
   "source": [
    "def beam_pattern_response_functions(detector_angles,source_angles) :\n",
    "    detector_response_tensor_detector_frame = np.array([[1/2,0,0],[0,-1/2,0],[0,0,0]])\n",
    "    transform_detector_ec = change_basis_detector_to_ec(detector_angles)\n",
    "    detector_response_tensor_earth_centered = transform_2_0_tensor(detector_response_tensor_detector_frame,transform_detector_ec)\n",
    "    transform_gw_ec = change_basis_gw_to_ec(source_angles)\n",
    "    transform_ec_gw = np.linalg.inv(transform_gw_ec)\n",
    "    detector_response_tensor_gw_frame = transform_2_0_tensor(detector_response_tensor_earth_centered,transform_ec_gw)\n",
    "    fplus = detector_response_tensor_gw_frame[0,0]-detector_response_tensor_gw_frame[1,1]\n",
    "    fcross = detector_response_tensor_gw_frame[0,1]+detector_response_tensor_gw_frame[1,0]\n",
    "    return [fplus, fcross]"
   ]
  },
  {
   "cell_type": "markdown",
   "id": "2512867c",
   "metadata": {},
   "source": [
    "This function takes two lists -- the first containing the latitude, longitude, and orientation angles of a gravitational wave detector, and the second containing the declination, right ascensions, and polarization angles of a gravitational wave source -- and returns a list with the beam pattern response functions $F_+$ and $F_\\times$ of the detector for that source."
   ]
  },
  {
   "cell_type": "code",
   "execution_count": 68,
   "id": "38652a36",
   "metadata": {},
   "outputs": [],
   "source": [
    "def time_delay_hanford_to_livingston(source_angles) :\n",
    "    hanford_z_vector_earth_centered = source_vector_from_angles(hanford_detector_angles)\n",
    "    livingston_z_vector_earth_centered = source_vector_from_angles(livingston_detector_angles)\n",
    "    position_vector_hanford_to_livingston = earth_radius * (livingston_z_vector_earth_centered - hanford_z_vector_earth_centered)\n",
    "    gw_source_vector = source_vector_from_angles(source_angles)\n",
    "    gw_z_vector_earth_centered = -1*gw_source_vector\n",
    "    return 1/speed_light*(np.dot(gw_z_vector_earth_centered,position_vector_hanford_to_livingston))"
   ]
  },
  {
   "cell_type": "markdown",
   "id": "c3136f05",
   "metadata": {},
   "source": [
    "This function take a list of the declination, right ascension, and polarization angles of a gravitational wave source and returns the time delay between when the signal will arrive at the Hanford detector and when it will arrive at the Livingston detector. Negative values indicate that the signal arrives at the Livingston detector first."
   ]
  },
  {
   "cell_type": "code",
   "execution_count": 69,
   "id": "148c2df9",
   "metadata": {},
   "outputs": [],
   "source": [
    "def generate_network_time_array(signal_lifetime, detector_sampling_rate, maximum_time_delay) :\n",
    "    time_sample_width = round((signal_lifetime + maximum_time_delay)*detector_sampling_rate,0)  \n",
    "    all_times = 1/detector_sampling_rate*(np.arange(-time_sample_width,time_sample_width,1))\n",
    "    return all_times"
   ]
  },
  {
   "cell_type": "markdown",
   "id": "56f2f7a1",
   "metadata": {},
   "source": [
    "This function takes a gravitational wave signal lifetime, a detector sampling rate, and the maximum possible time delay between the detectors in a network, and returns a NumPy array with absolute detector strain response times appropriate for all the detectors in a network. Note that all responses times are actual sampled times, assuming correct time synchorization between sites."
   ]
  },
  {
   "cell_type": "code",
   "execution_count": 70,
   "id": "470875ef",
   "metadata": {},
   "outputs": [],
   "source": [
    "def generate_oscillatory_terms(signal_lifetime, signal_frequency, time_array, time_delay) :\n",
    "    number_time_samples = time_array.size\n",
    "    signal_q_value = m.sqrt(m.log(2))/signal_lifetime\n",
    "    oscillatory_terms = np.empty((number_time_samples,number_gw_modes))\n",
    "    for this_time_sample in range(number_time_samples) :\n",
    "        this_time = time_array[this_time_sample]\n",
    "        this_gaussian_term = m.exp(-1*signal_q_value**2*(this_time - time_delay)**2)\n",
    "        this_cos_term = m.cos(2*np.pi*signal_frequency*(this_time - time_delay))\n",
    "        this_sin_term = m.sin(2*np.pi*signal_frequency*(this_time - time_delay))\n",
    "        this_cos_gauss_term = this_gaussian_term*this_cos_term\n",
    "        this_sin_gauss_term = this_gaussian_term*this_sin_term\n",
    "        these_oscillations = np.array([this_cos_gauss_term,this_sin_gauss_term,this_cos_gauss_term,this_sin_gauss_term])\n",
    "        oscillatory_terms[this_time_sample] = these_oscillations\n",
    "    return oscillatory_terms"
   ]
  },
  {
   "cell_type": "markdown",
   "id": "31df5925",
   "metadata": {},
   "source": [
    "This function takes the lifetime and frequency of a gravitional wave, a NumPy array with the detector strain response times of a gravitational wave detector network, and the time delay between when the gravitational wave arrives at the specific detector where the terms are being evaluated compared to when it arrived at a fixed reference detector (Hanford, in this code), and returns a NumPy array with the appropriate sine-Gaussian gravitational wave strain amplitudes for the detector at each network time. Note that the order of the output array is 1) time sample 2) $[ A_+, B_+, A_\\times, B_\\times]$."
   ]
  },
  {
   "cell_type": "code",
   "execution_count": 71,
   "id": "23da0c34",
   "metadata": {},
   "outputs": [],
   "source": [
    "def generate_model_angles_array(number_angular_samples) : \n",
    "    model_angles_array = np.empty((number_angular_samples,number_source_angles))\n",
    "    for this_angle_set in range(number_angular_samples) :\n",
    "        for this_source_angle in range(number_source_angles) :\n",
    "            if this_source_angle == 0 :\n",
    "                model_angles_array[this_angle_set,this_source_angle] = (np.random.rand(1) - 1/2)*np.pi\n",
    "            else :\n",
    "                model_angles_array[this_angle_set,this_source_angle] = np.random.rand(1)*2*np.pi\n",
    "    return model_angles_array"
   ]
  },
  {
   "cell_type": "markdown",
   "id": "982ac0a8",
   "metadata": {},
   "source": [
    "This functions takes the number of desired model angle sets $[\\delta,\\phi,\\psi]$ and returns a NumPy array with that many randomized angle sets. Note that the first angle in each set is bewteen $-\\frac{\\pi}{2}$ and $\\frac{\\pi}{2}$, while all subsequent angles are between $0$ and $2 \\pi$. "
   ]
  },
  {
   "cell_type": "code",
   "execution_count": 72,
   "id": "0be6f796",
   "metadata": {},
   "outputs": [],
   "source": [
    "def generate_model_amplitudes_array(number_amplitude_combinations, gw_max_amps) :\n",
    "    model_amplitudes_array = np.empty((number_amplitude_combinations,number_gw_modes))\n",
    "    for this_amplitude_combination in range(number_amplitude_combinations) :\n",
    "        new_amplitudes = np.random.rand(number_gw_modes)*gw_max_amps\n",
    "        model_amplitudes_array[this_amplitude_combination] = new_amplitudes \n",
    "    return model_amplitudes_array"
   ]
  },
  {
   "cell_type": "markdown",
   "id": "f04cbf9f",
   "metadata": {},
   "source": [
    "This function takes the number of desired model amplitude combinations $[A_+, B_+, A_\\times, B_\\times]$ and the maximum allowed value for any amplitude and returns a NumPy array with the desired amplitude combinations."
   ]
  },
  {
   "cell_type": "code",
   "execution_count": 73,
   "id": "848aef22",
   "metadata": {},
   "outputs": [],
   "source": [
    "def generate_model_detector_responses(signal_frequency,signal_lifetime,detector_sampling_rate,gw_max_amps,number_amplitude_combinations,number_angular_samples) :\n",
    "    time_array = generate_network_time_array(signal_lifetime,detector_sampling_rate,maximum_hanford_livingston_time_delay)\n",
    "    number_time_samples = time_array.size\n",
    "    hanford_oscillatory_terms = generate_oscillatory_terms(signal_lifetime,signal_frequency,time_array,0)\n",
    "    model_amplitudes_array = generate_model_amplitudes_array(number_amplitude_combinations, gw_max_amps)\n",
    "    model_angles_array = generate_model_angles_array(number_angular_samples)\n",
    "    model_detector_response_array = np.empty((number_angular_samples,number_amplitude_combinations,number_time_samples,number_detectors))\n",
    "    for this_angle_set in range(number_angular_samples) :\n",
    "        these_angles = model_angles_array[this_angle_set]\n",
    "        [fplus_hanford,fcross_hanford] = beam_pattern_response_functions(hanford_detector_angles,these_angles)\n",
    "        [fplus_livingston,fcross_livingston] = beam_pattern_response_functions(livingston_detector_angles,these_angles)\n",
    "        hanford_livingston_time_delay = time_delay_hanford_to_livingston(these_angles)\n",
    "        livingston_oscillatory_terms = generate_oscillatory_terms(signal_lifetime,signal_frequency,time_array,hanford_livingston_time_delay)\n",
    "        for this_amplitude_combination in range(number_amplitude_combinations) :\n",
    "            these_amplitudes = model_amplitudes_array[this_amplitude_combination]\n",
    "            for this_sample_time in range(number_time_samples) :\n",
    "                model_detector_response_array[this_angle_set,this_amplitude_combination,this_sample_time,0] = np.dot(these_amplitudes,hanford_oscillatory_terms[this_sample_time]*[fplus_hanford,fplus_hanford,fcross_hanford,fcross_hanford])\n",
    "                model_detector_response_array[this_angle_set,this_amplitude_combination,this_sample_time,1] = np.dot(these_amplitudes,livingston_oscillatory_terms[this_sample_time]*[fplus_livingston,fplus_livingston,fcross_livingston,fcross_livingston])\n",
    "    return [model_detector_response_array,model_angles_array]"
   ]
  },
  {
   "cell_type": "markdown",
   "id": "0fd64ca0",
   "metadata": {},
   "source": [
    "This function takes three source/detector parameters -- the frequency and lifetime (here defined as the time required to drop to one-half of maximum amplitude) of (one monochromatic Fourier mode of) a gravitational wave, and the sampling rate of the detectors -- and three model parameters -- the maximum model graviational wave amplitude to consider and the number of amplitude and angle combinations to generate -- and returns a pair of NumPy arrays that give the expected response of each gravitational wave detector at each time for each amplitude and angle combination -- indexed by 1) angle combination 2) amplitude combination 3) time sample and 4) detector -- and the array of angle combinations referenced by the detector response array."
   ]
  },
  {
   "cell_type": "code",
   "execution_count": 74,
   "id": "26aa59f6",
   "metadata": {},
   "outputs": [],
   "source": [
    "def generate_noise_array(max_noise_amp,number_time_samples) :\n",
    "    noise_array = np.random.rand(number_time_samples)*max_noise_amp\n",
    "    return noise_array"
   ]
  },
  {
   "cell_type": "markdown",
   "id": "b44440a7",
   "metadata": {},
   "source": [
    "This function takes a maximum noise amplitude and a number of time samples and returns random (non-Gaussian) noise between zero and the appropriate maximum for each time sample."
   ]
  },
  {
   "cell_type": "code",
   "execution_count": 75,
   "id": "4bea475e",
   "metadata": {},
   "outputs": [],
   "source": [
    "def generate_real_detector_responses(signal_frequency,signal_lifetime,detector_sampling_rate,gw_max_amps,number_amplitude_combinations,number_angular_samples,max_noise_amp) :\n",
    "    time_array = generate_network_time_array(signal_lifetime,detector_sampling_rate,maximum_hanford_livingston_time_delay)\n",
    "    number_time_samples = time_array.size\n",
    "    real_amplitudes = generate_model_amplitudes_array(1, gw_max_amps)[0]\n",
    "    real_angles = generate_model_angles_array(1)[0]\n",
    "    [fplus_hanford,fcross_hanford] = beam_pattern_response_functions(hanford_detector_angles,real_angles)\n",
    "    [fplus_livingston,fcross_livingston] = beam_pattern_response_functions(livingston_detector_angles,real_angles)\n",
    "    hanford_livingston_time_delay = time_delay_hanford_to_livingston(real_angles)\n",
    "    hanford_oscillatory_terms = generate_oscillatory_terms(signal_lifetime,signal_frequency,time_array,0)\n",
    "    livingston_oscillatory_terms = generate_oscillatory_terms(signal_lifetime,signal_frequency,time_array,hanford_livingston_time_delay)\n",
    "    small_detector_response_array = np.empty((number_time_samples,number_detectors))\n",
    "    hanford_noise_array = generate_noise_array(max_noise_amp,number_time_samples)\n",
    "    livingston_noise_array = generate_noise_array(max_noise_amp,number_time_samples)\n",
    "    for this_sample_time in range(number_time_samples) :\n",
    "        small_detector_response_array[this_sample_time,0] = np.dot(real_amplitudes,hanford_oscillatory_terms[this_sample_time]*[fplus_hanford,fplus_hanford,fcross_hanford,fcross_hanford]) + hanford_noise_array[this_sample_time]\n",
    "        small_detector_response_array[this_sample_time,1] = np.dot(real_amplitudes,livingston_oscillatory_terms[this_sample_time]*[fplus_livingston,fplus_livingston,fcross_livingston,fcross_livingston]) + livingston_noise_array[this_sample_time]\n",
    "    real_angles_array = np.empty((number_angular_samples,number_source_angles))\n",
    "    real_detector_response_array = np.empty((number_angular_samples,number_amplitude_combinations,number_time_samples,number_detectors))\n",
    "    for this_angle_set in range(number_angular_samples) :\n",
    "        real_angles_array[this_angle_set] = real_angles\n",
    "        for this_amplitude_combination in range(number_amplitude_combinations) :\n",
    "            real_detector_response_array[this_angle_set,this_amplitude_combination] = small_detector_response_array\n",
    "    return [real_detector_response_array,real_angles_array]"
   ]
  },
  {
   "cell_type": "markdown",
   "id": "471bcf68",
   "metadata": {},
   "source": [
    "This function takes three source/detector parameters -- the frequency and lifetime (here defined as the time required to drop to one-half of maximum amplitude) of (one monochromatic Fourier mode of) a gravitational wave, and the sampling rate of the detectors -- and three model parameters -- the maximum model graviational wave amplitude to consider and the number of amplitude and angle combinations in the model -- and returns a pair of NumPy arrays that give the \"true\" (simulated) response of each gravitational wave detector at each time for each amplitude and angle combination -- indexed by 1) angle combination 2) amplitude combination 3) time sample and 4) detector -- and the \"true\" simulated source angles for each angle combination referenced by the detector response array. Note that there is a great deal of repeated information in these arrays, but they are intentionally size-matched with the outputs of the function \"generate_model_detector_responses\" to ease later array computations."
   ]
  },
  {
   "cell_type": "code",
   "execution_count": 76,
   "id": "019eb7b8",
   "metadata": {},
   "outputs": [],
   "source": [
    "def get_best_fit_angles_deltas(real_detector_responses,real_angles_array,model_detector_responses,model_angles_array) :\n",
    "    real_model_angle_deltas = np.absolute(real_angles_array - model_angles_array)\n",
    "    summed_real_model_angle_deltas = np.sum(real_model_angle_deltas,-1)\n",
    "    minimum_summed_angle_delta = np.min(summed_real_model_angle_deltas)\n",
    "    position_minimum_angles_delta = np.where(summed_real_model_angle_deltas == minimum_summed_angle_delta)\n",
    "    angles_minimum_angles_delta = model_angles_array[position_minimum_angles_delta[0]]\n",
    "    real_minimum_angles_deltas = np.absolute(real_angles_array[0] - angles_minimum_angles_delta)\n",
    "    sum_real_minimum_angle_deltas = np.sum(real_minimum_angles_deltas)\n",
    "    \n",
    "    real_model_response_deltas = np.absolute(real_detector_responses - model_detector_responses)\n",
    "    summed_real_model_response_deltas = np.sum(real_model_response_deltas,axis=(-1,-2))\n",
    "    minimum_summed_response_delta = np.min(summed_real_model_response_deltas)\n",
    "    position_minimum_response_delta = np.where(summed_real_model_response_deltas == minimum_summed_response_delta)\n",
    "    angles_minimum_response_delta = model_angles_array[position_minimum_response_delta[0]]\n",
    "    real_minimum_response_angle_deltas = np.absolute(real_angles_array[0] - angles_minimum_response_delta)\n",
    "    sum_real_minimum_response_angle_deltas = np.sum(real_minimum_response_angle_deltas)\n",
    "    \n",
    "    offset_matrix = np.ones(summed_real_model_response_deltas.shape)\n",
    "    fractional_summed_real_model_response_deltas = 1/minimum_summed_response_delta * summed_real_model_response_deltas\n",
    "    weighted_summed_real_model_response_deltas = np.exp(offset_matrix - fractional_summed_real_model_response_deltas**weighting_power)\n",
    "    summed_weighted_summed_real_model_response_deltas = np.sum(weighted_summed_real_model_response_deltas,axis=-1)\n",
    "    maximum_summed_weighted_response_delta = np.max(summed_weighted_summed_real_model_response_deltas)\n",
    "    position_maximum_summed_weighted_response_delta = np.where(summed_weighted_summed_real_model_response_deltas == maximum_summed_weighted_response_delta)\n",
    "    angles_maximum_summed_weighted_response_delta = model_angles_array[position_maximum_summed_weighted_response_delta[0]]\n",
    "    real_maximum_weighted_response_angle_deltas = np.absolute(real_angles_array[0] - angles_maximum_summed_weighted_response_delta)\n",
    "    sum_real_maximum_weighted_response_angle_deltas = np.sum(real_maximum_weighted_response_angle_deltas)\n",
    "    \n",
    "    return [sum_real_minimum_angle_deltas,sum_real_minimum_response_angle_deltas,sum_real_maximum_weighted_response_angle_deltas]"
   ]
  },
  {
   "cell_type": "markdown",
   "id": "0a2dea46",
   "metadata": {},
   "source": [
    "This function takes NumPy arrays containing the \"real\" (simulated) detector responses and source angles and the model detector responses and source angles and returns the sum of the absolute values of the differences between the \"real\" (simulated) angles and 1) the angles in model_angles_array that are closest to the \"real\" angles (i.e., the best the fitting procedure could have done given the model angles it used) 2) the angles produced by finding the single best time-and-site summed model detector response and using the angles that produce it and 3) the angles produced by weighting the time-and-site summed detector responses, summing them over all amplitude combinations, and using the angles produced by maximizing that sum. "
   ]
  },
  {
   "cell_type": "code",
   "execution_count": 77,
   "id": "e39e91df",
   "metadata": {},
   "outputs": [
    {
     "name": "stdout",
     "output_type": "stream",
     "text": [
      "[4.633124786514383, 7.920558338010169, 7.920558338010169]\n"
     ]
    }
   ],
   "source": [
    "gw_frequency = 100\n",
    "gw_lifetime = 0.03\n",
    "detector_sampling_rate = 10000\n",
    "gw_max_amps = 1\n",
    "max_noise_amp = 0\n",
    "number_angular_samples = 5\n",
    "number_amplitude_combinations = 10\n",
    "[model_detector_responses,model_angles_array] = generate_model_detector_responses(gw_frequency,gw_lifetime,detector_sampling_rate,gw_max_amps,number_amplitude_combinations,number_angular_samples)\n",
    "[real_detector_responses,real_angles_array] = generate_real_detector_responses(gw_frequency,gw_lifetime,detector_sampling_rate,gw_max_amps,number_amplitude_combinations,number_angular_samples,max_noise_amp)\n",
    "best_fit_data = get_best_fit_angles_deltas(real_detector_responses,real_angles_array,model_detector_responses,model_angles_array)\n",
    "print(best_fit_data)"
   ]
  }
 ],
 "metadata": {
  "kernelspec": {
   "display_name": "Python 3 (ipykernel)",
   "language": "python",
   "name": "python3"
  },
  "language_info": {
   "codemirror_mode": {
    "name": "ipython",
    "version": 3
   },
   "file_extension": ".py",
   "mimetype": "text/x-python",
   "name": "python",
   "nbconvert_exporter": "python",
   "pygments_lexer": "ipython3",
   "version": "3.9.12"
  }
 },
 "nbformat": 4,
 "nbformat_minor": 5
}
